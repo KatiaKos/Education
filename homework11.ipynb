{
 "cells": [
  {
   "cell_type": "code",
   "execution_count": null,
   "id": "3026e39a",
   "metadata": {},
   "outputs": [],
   "source": [
    "import pandas as pd\n",
    "import numpy as np\n"
   ]
  },
  {
   "cell_type": "markdown",
   "id": "0998c2e1",
   "metadata": {},
   "source": [
    "\n",
    "**Ex.1** Импортируйте библиотеку Pandas и дайте ей псевдоним pd. Создайте датафрейм authors со столбцами author_id и author_name, в которых соответственно содержатся данные: \n",
    "\n"
   ]
  },
  {
   "cell_type": "code",
   "execution_count": null,
   "id": "202c13b2",
   "metadata": {},
   "outputs": [],
   "source": [
    "authors = pd.DataFrame({'author_id': [1,2,3],\n",
    "                        'author_name':['Тургенев', 'Чехов', 'Островский']},\n",
    "                       columns = ['author_id','author_name'])\n",
    "authors"
   ]
  },
  {
   "cell_type": "code",
   "execution_count": null,
   "id": "00ca391d",
   "metadata": {},
   "outputs": [],
   "source": [
    "book = pd.DataFrame({'author_id':[1, 1, 1, 2, 2, 3, 3] ,\n",
    "                     'book_title':['Отцы и дети', 'Рудин', 'Дворянское гнездо', 'Толстый и тонкий', 'Дама с собачкой', 'Гроза', 'Таланты и поклонники'],\n",
    "                   'price':[450, 300, 350, 500, 450, 370, 290]},\n",
    "                   columns = ['author_id','book_title','price'])\n",
    "book"
   ]
  },
  {
   "cell_type": "markdown",
   "id": "00453b11",
   "metadata": {},
   "source": [
    "\n",
    "**Ex.2** Получите датафрейм authors_price, соединив датафреймы authors и books по полю author_id.\n",
    "\n"
   ]
  },
  {
   "cell_type": "code",
   "execution_count": null,
   "id": "9dd44996",
   "metadata": {},
   "outputs": [],
   "source": [
    "authors_price = pd.merge( authors, book, on = 'author_id', how = 'inner') \n",
    "\n",
    "authors_price"
   ]
  },
  {
   "cell_type": "markdown",
   "id": "e9fdc507",
   "metadata": {},
   "source": [
    "**Ex.3** Создайте датафрейм top5, в котором содержатся строки из authors_price с пятью самыми дорогими книгами.\n"
   ]
  },
  {
   "cell_type": "code",
   "execution_count": null,
   "id": "b9d6a4aa",
   "metadata": {},
   "outputs": [],
   "source": [
    "authors_price.nlargest(5,'price')"
   ]
  },
  {
   "cell_type": "markdown",
   "id": "55466ba8",
   "metadata": {},
   "source": [
    "**Ex4** Создайте датафрейм authors_stat на основе информации из authors_price. В датафрейме authors_stat должны быть четыре столбца:\n",
    "author_name, min_price, max_price и mean_price,\n",
    "в которых должны содержаться соответственно имя автора, минимальная, максимальная и средняя цена на книги этого автора.\n",
    "\n"
   ]
  },
  {
   "cell_type": "code",
   "execution_count": null,
   "id": "1bed2f10",
   "metadata": {},
   "outputs": [],
   "source": [
    "authors_price['price'].min()\n",
    "\n",
    "authors_price['price'].max()\n",
    "\n",
    "\n",
    "authors_price['price'].mean()"
   ]
  },
  {
   "cell_type": "code",
   "execution_count": null,
   "id": "a71469e2",
   "metadata": {},
   "outputs": [],
   "source": [
    "A = authors_price.groupby('author_name').agg({'price': 'min'}).rename(columns={'price':'min_price'})\n",
    "B = authors_price.groupby('author_name').agg({'price': 'max'}).rename(columns={'price':'max_price'})\n",
    "C = authors_price.groupby('author_name').agg({'price': 'mean'}).rename(columns={'price':'mean_price'})\n",
    "authors_stat=pd.concat([A,B,B], axis = 1)\n",
    "authors_stat\n"
   ]
  },
  {
   "cell_type": "markdown",
   "id": "01a1b7f1",
   "metadata": {},
   "source": [
    " **Ex.5*** Создайте новый столбец в датафрейме authors_price под названием cover, в нем будут располагаться данные о том, какая обложка у данной книги - твердая или мягкая. В этот столбец поместите данные из следующего списка:\n",
    "['твердая', 'мягкая', 'мягкая', 'твердая', 'твердая', 'мягкая', 'мягкая'].\n",
    "\n",
    "\n",
    "Просмотрите документацию по функции pd.pivot_table с помощью вопросительного знака.\n",
    "Для каждого автора посчитайте суммарную стоимость книг в твердой и мягкой обложке. Используйте для этого функцию pd.pivot_table. При этом столбцы должны называться \"твердая\" и \"мягкая\", а индексами должны быть фамилии авторов. Пропущенные значения стоимостей заполните нулями, при необходимости загрузите библиотеку Numpy.\n",
    "Назовите полученный датасет book_info и сохраните его в формат pickle под названием \"book_info.pkl\". Затем загрузите из этого файла датафрейм и назовите его book_info2. Удостоверьтесь, что датафреймы book_info и book_info2 идентичны.\n"
   ]
  },
  {
   "cell_type": "code",
   "execution_count": null,
   "id": "a989cbe5",
   "metadata": {},
   "outputs": [],
   "source": [
    "cover = pd.DataFrame({'cover' : ['твердая', 'мягкая', 'мягкая', 'твердая', 'твердая', 'мягкая', 'мягкая']}, columns = ['cover'], index = [1,2,3,4,5,6,7])\n",
    "cover\n"
   ]
  },
  {
   "cell_type": "code",
   "execution_count": null,
   "id": "1a885fd0",
   "metadata": {},
   "outputs": [],
   "source": [
    "authors_price = pd.concat([authors_price, cover],axis = 1)\n",
    "authors_price"
   ]
  },
  {
   "cell_type": "code",
   "execution_count": null,
   "id": "45cf58c3",
   "metadata": {},
   "outputs": [],
   "source": [
    "\n",
    "?pd.pivot_table "
   ]
  },
  {
   "cell_type": "code",
   "execution_count": null,
   "id": "893b569a",
   "metadata": {},
   "outputs": [],
   "source": [
    "book_info = pd.pivot_table(authors_price, values='price', index=['author_name'],\n",
    "                    columns=['cover'], aggfunc=np.sum, fill_value=0)\n",
    "book_info\n"
   ]
  },
  {
   "cell_type": "code",
   "execution_count": null,
   "id": "ff4bf6c9",
   "metadata": {},
   "outputs": [],
   "source": [
    "book_info.to_pickle('book_info.pkl')\n",
    "\n",
    "book_info2 = pd.read_pickle('book_info.pkl')\n",
    "\n",
    "book_info==book_info2"
   ]
  }
 ],
 "metadata": {
  "kernelspec": {
   "display_name": "Python 3",
   "language": "python",
   "name": "python3"
  },
  "language_info": {
   "codemirror_mode": {
    "name": "ipython",
    "version": 3
   },
   "file_extension": ".py",
   "mimetype": "text/x-python",
   "name": "python",
   "nbconvert_exporter": "python",
   "pygments_lexer": "ipython3",
   "version": "3.8.8"
  }
 },
 "nbformat": 4,
 "nbformat_minor": 5
}
